{
 "cells": [
  {
   "cell_type": "code",
   "execution_count": 1,
   "metadata": {},
   "outputs": [],
   "source": [
    "import mediapipe as mp\n",
    "import cv2\n",
    "import numpy as np\n",
    "import uuid\n",
    "import os"
   ]
  },
  {
   "cell_type": "code",
   "execution_count": 2,
   "metadata": {},
   "outputs": [],
   "source": [
    "# Initialize MediaPipe components for hand tracking.\n",
    "mp_drawing = mp.solutions.drawing_utils\n",
    "mp_hands = mp.solutions.hands"
   ]
  },
  {
   "cell_type": "code",
   "execution_count": 3,
   "metadata": {},
   "outputs": [
    {
     "name": "stderr",
     "output_type": "stream",
     "text": [
      "INFO: Created TensorFlow Lite XNNPACK delegate for CPU.\n"
     ]
    }
   ],
   "source": [
    "# Initialize the webcam capture using OpenCV.\n",
    "cap = cv2.VideoCapture(0)\n",
    "\n",
    "# Create a loop to continuously process frames from the webcam.\n",
    "with mp_hands.Hands(min_detection_confidence=0.6, min_tracking_confidence=0.5, max_num_hands=2) as hands:\n",
    "    while cap.isOpened():\n",
    "        # Capture a frame from the webcam.\n",
    "        ret, frame = cap.read()\n",
    "\n",
    "        # Convert the frame from BGR to RGB color space (required by MediaPipe).\n",
    "        image = cv2.cvtColor(frame, cv2.COLOR_BGR2RGB)\n",
    "        image.flags.writeable = False\n",
    "\n",
    "        # Process the RGB image with the MediaPipe 'hands' model to detect and track hands.\n",
    "        results = hands.process(image)\n",
    "        image.flags.writeable = True\n",
    "\n",
    "        # Convert the processed image back to BGR color space.\n",
    "        image = cv2.cvtColor(image, cv2.COLOR_RGB2BGR)\n",
    "\n",
    "        # If hand landmarks are detected in the frame, draw the landmarks and hand connections.\n",
    "        if results.multi_hand_landmarks:\n",
    "            for landmarks, hand in zip(results.multi_hand_landmarks, results.multi_handedness):\n",
    "                # Determine if the hand is left or right and assign a unique color.\n",
    "                if hand.classification[0].label == \"Left\":\n",
    "                    hand_color = (121, 22, 76)  # Color for the left hand\n",
    "                else:\n",
    "                    hand_color = (121, 44, 250)  # Color for the right hand\n",
    "\n",
    "                # Draw landmarks and connections using the determined hand color.\n",
    "                mp_drawing.draw_landmarks(image, landmarks, mp_hands.HAND_CONNECTIONS,\n",
    "                                          mp_drawing.DrawingSpec(color=hand_color, thickness=2, circle_radius=4),\n",
    "                                          mp_drawing.DrawingSpec(color=hand_color, thickness=2, circle_radius=2))\n",
    "\n",
    "        # Display the processed frame with the hand landmarks in a window named 'Hand Tracking'.\n",
    "        cv2.imshow('Hand Tracking', image)\n",
    "\n",
    "        # Check if the 'q' key is pressed to exit the loop and terminate the program.\n",
    "        if cv2.waitKey(5) & 0xFF == 27:\n",
    "            break\n",
    "\n",
    "# Release the webcam capture when the loop is exited.\n",
    "cap.release()\n",
    "\n",
    "# Close all OpenCV windows.\n",
    "cv2.destroyAllWindows()\n"
   ]
  },
  {
   "cell_type": "code",
   "execution_count": null,
   "metadata": {
    "editable": true,
    "slideshow": {
     "slide_type": ""
    },
    "tags": []
   },
   "outputs": [],
   "source": []
  }
 ],
 "metadata": {
  "kernelspec": {
   "display_name": "Python 3 (ipykernel)",
   "language": "python",
   "name": "python3"
  },
  "language_info": {
   "codemirror_mode": {
    "name": "ipython",
    "version": 3
   },
   "file_extension": ".py",
   "mimetype": "text/x-python",
   "name": "python",
   "nbconvert_exporter": "python",
   "pygments_lexer": "ipython3",
   "version": "3.10.9"
  }
 },
 "nbformat": 4,
 "nbformat_minor": 4
}
